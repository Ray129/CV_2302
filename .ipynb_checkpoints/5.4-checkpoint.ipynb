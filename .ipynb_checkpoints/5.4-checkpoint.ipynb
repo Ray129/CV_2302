{
 "cells": [
  {
   "cell_type": "markdown",
   "metadata": {},
   "source": [
    "### 5.4 SIFT: SIFT 검출"
   ]
  },
  {
   "cell_type": "code",
   "execution_count": 1,
   "metadata": {},
   "outputs": [],
   "source": [
    "import cv2 as cv\n",
    "# OpenCV 라이브러리 불러옴\n",
    "\n",
    "img = cv.imread('mot_color70.jpg')  # mot_color70.jpg 이미지를 불러옴\n",
    "gray = cv.cvtColor(img,cv.COLOR_BGR2GRAY)  # 불러온 이미지 컬러에서 흑백으로 변환\n",
    "\n",
    "sift = cv.SIFT_create()  # SIFT 객체 생성\n",
    "kp,des = sift.detectAndCompute(gray,None)\n",
    "# gray 이미지에서 키포인트 탐지 이후 키포인트의 특징 계산 | kp에 키포인트, des에 키포인트의 특징 저장\n",
    "\n",
    "gray = cv.drawKeypoints(gray,kp,None,flags=cv.DRAW_MATCHES_FLAGS_DRAW_RICH_KEYPOINTS)\n",
    "# gray 이미지에 키포인트 그리기\n",
    "cv.imshow('sift', gray)  # 제목은 'sift'라는 창에 gray 이미지 출력\n",
    "\n",
    "k = cv.waitKey()  # 키보드 입력 대기\n",
    "cv.destroyAllWindows()  # 창 모두 닫기"
   ]
  },
  {
   "cell_type": "code",
   "execution_count": null,
   "metadata": {},
   "outputs": [],
   "source": []
  }
 ],
 "metadata": {
  "kernelspec": {
   "display_name": "Python 3 (ipykernel)",
   "language": "python",
   "name": "python3"
  },
  "language_info": {
   "codemirror_mode": {
    "name": "ipython",
    "version": 3
   },
   "file_extension": ".py",
   "mimetype": "text/x-python",
   "name": "python",
   "nbconvert_exporter": "python",
   "pygments_lexer": "ipython3",
   "version": "3.10.13"
  }
 },
 "nbformat": 4,
 "nbformat_minor": 2
}
