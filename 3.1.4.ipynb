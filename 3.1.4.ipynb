{
 "cells": [
  {
   "cell_type": "markdown",
   "metadata": {},
   "source": [
    "### 3.1.4 디지털 영상 기초: RGB 컬러 영상을 채널별로 구분해 시각화하기"
   ]
  },
  {
   "cell_type": "code",
   "execution_count": 1,
   "metadata": {},
   "outputs": [],
   "source": [
    "import cv2 as cv    # OpenCV 라이브러리를 가져오고 cv라는 별칭으로 사용함\n",
    "import sys          # Python의 기본 모듈인 sys를 가져옴\n",
    "\n",
    "\n",
    "img = cv.imread('soccer.jpg')    \n",
    "# 현재 폴더(디렉토리)에 있는 soccer.jpg 파일을 OpenCV를 이용해 이미지를 읽어와서 'img'라는 변수에 저장\n",
    "\n",
    "if img is None:\n",
    "    sys.exit('파일을 찾을 수 없습니다.')    \n",
    "    # 변수 img이 비어있다면(없다면) '파일을 찾을 수 없습니다'라는 문구와 함께 프로그램 실행을 중단(sys.exit()) 시킴\n",
    "    \n",
    "cv.imshow('original_RGB', img)\n",
    "cv.imshow('Upper left half', img[0:img.shape[0]//2, 0:img.shape[1]//2, :])\n",
    "cv.imshow('Center half', img[img.shape[0]//4:3*img.shape[0]//4, img.shape[1]//4:3*img.shape[1]//4, :])\n",
    "# 이미지를 표시하는 함수(cv.imshow())를 사용해 원본과 좌측 상단 사진(Upper left half), 중앙 사진(Center half)을 출력함\n",
    "\n",
    "cv.imshow('R channel', img[:,:,2])\n",
    "cv.imshow('G channel', img[:,:,1])\n",
    "cv.imshow('B channel', img[:,:,0])\n",
    "# Red, Green, Blue 채널만 추출한 사진을 보여줌(흑백)\n",
    "\n",
    "cv.waitKey()              # 키보드 입력 대기\n",
    "cv.destroyAllWindows()    # 현재 열린 모든 창을 닫음"
   ]
  },
  {
   "cell_type": "code",
   "execution_count": null,
   "metadata": {},
   "outputs": [],
   "source": []
  }
 ],
 "metadata": {
  "kernelspec": {
   "display_name": "Python 3 (ipykernel)",
   "language": "python",
   "name": "python3"
  },
  "language_info": {
   "codemirror_mode": {
    "name": "ipython",
    "version": 3
   },
   "file_extension": ".py",
   "mimetype": "text/x-python",
   "name": "python",
   "nbconvert_exporter": "python",
   "pygments_lexer": "ipython3",
   "version": "3.10.13"
  }
 },
 "nbformat": 4,
 "nbformat_minor": 2
}
