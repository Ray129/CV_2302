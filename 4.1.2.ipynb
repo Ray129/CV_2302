{
 "cells": [
  {
   "cell_type": "markdown",
   "metadata": {},
   "source": [
    "### 4.1.2 에지 연산자: 소벨 엣지 검출하기"
   ]
  },
  {
   "cell_type": "code",
   "execution_count": 1,
   "metadata": {},
   "outputs": [],
   "source": [
    "import cv2 as cv\n",
    "\n",
    "img = cv.imread('soccer.jpg')    # soccer.jpg 이미지 불러오기\n",
    "gray = cv.cvtColor(img,cv.COLOR_BGR2GRAY)    # 불러온 이미지 컬러에서 흑백으로 변환\n",
    "\n",
    "grad_x = cv.Sobel(gray,cv.CV_32F,1,0,ksize=3)\n",
    "grad_y = cv.Sobel(gray,cv.CV_32F,0,1,ksize=3)\n",
    "# 소벨 연산자 적용 x, y\n",
    "\n",
    "sobel_x = cv.convertScaleAbs(grad_x)    \n",
    "sobel_y = cv.convertScaleAbs(grad_y)\n",
    "# 절대값을 취해 양수 영상으로 변환\n",
    "\n",
    "edge_strength=cv.addWeighted(sobel_x,0.5,sobel_y,0.5,0)\t# 에지 강도 계산\n",
    "\n",
    "cv.imshow('Original',gray)    # 원본 이미지 출력\n",
    "cv.imshow('sobelx',sobel_x)    # 소벨 연산자 적용 x 이미지 출력\n",
    "cv.imshow('sobely',sobel_y)    # 소벨 연산자 적용 y 이미지 출력\n",
    "cv.imshow('edge strength',edge_strength)    # 에지 강도 계산된 이미지 출력\n",
    "\n",
    "cv.waitKey()\n",
    "cv.destroyAllWindows()"
   ]
  },
  {
   "cell_type": "code",
   "execution_count": null,
   "metadata": {},
   "outputs": [],
   "source": []
  }
 ],
 "metadata": {
  "kernelspec": {
   "display_name": "Python 3 (ipykernel)",
   "language": "python",
   "name": "python3"
  },
  "language_info": {
   "codemirror_mode": {
    "name": "ipython",
    "version": 3
   },
   "file_extension": ".py",
   "mimetype": "text/x-python",
   "name": "python",
   "nbconvert_exporter": "python",
   "pygments_lexer": "ipython3",
   "version": "3.10.13"
  }
 },
 "nbformat": 4,
 "nbformat_minor": 2
}
