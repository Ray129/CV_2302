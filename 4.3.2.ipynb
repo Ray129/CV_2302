{
 "cells": [
  {
   "cell_type": "markdown",
   "metadata": {},
   "source": [
    "### 4.3.2 허프 변환: 허프 변환을 이용해 사과 검출하기"
   ]
  },
  {
   "cell_type": "code",
   "execution_count": 1,
   "metadata": {},
   "outputs": [],
   "source": [
    "import cv2 as cv \n",
    "\n",
    "img = cv.imread('apples.jpg')\n",
    "gray = cv.cvtColor(img,cv.COLOR_BGR2GRAY)\n",
    "# apples.jpg 이미지를 불러와 컬러에서 흑백으로 변환\n",
    "\n",
    "apples = cv.HoughCircles(gray,cv.HOUGH_GRADIENT,1,200,param1=150,param2=20,minRadius=50,maxRadius=120)\n",
    "# 변환시킨 이미지에서 Hough Circle 변환을 사용하여 사과를 검출\n",
    "\n",
    "for i in apples[0]:\n",
    "    cv.circle(img,(int(i[0]),int(i[1])),int(i[2]),(255,0,0),2)\n",
    "    # apples에서 검출된 사과를 파란색 원으로 표시\n",
    "\n",
    "cv.imshow('Apple detection',img)  # 제목은 'Apple detection'이라는 창에 apples.jpg 이미지 출력\n",
    "\n",
    "cv.waitKey()    # 키보드 입력 대기\n",
    "cv.destroyAllWindows()    # 창 모두 닫기"
   ]
  },
  {
   "cell_type": "code",
   "execution_count": null,
   "metadata": {},
   "outputs": [],
   "source": []
  }
 ],
 "metadata": {
  "kernelspec": {
   "display_name": "Python 3 (ipykernel)",
   "language": "python",
   "name": "python3"
  },
  "language_info": {
   "codemirror_mode": {
    "name": "ipython",
    "version": 3
   },
   "file_extension": ".py",
   "mimetype": "text/x-python",
   "name": "python",
   "nbconvert_exporter": "python",
   "pygments_lexer": "ipython3",
   "version": "3.10.13"
  }
 },
 "nbformat": 4,
 "nbformat_minor": 2
}
