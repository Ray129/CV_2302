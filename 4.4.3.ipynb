{
 "cells": [
  {
   "cell_type": "markdown",
   "metadata": {},
   "source": [
    "### 4.4.3 최적화 분할: 정규화 절단 알고리즘으로 영역 분할하기\n",
    "##### scikit-image 라이브러리에 'skimage.future.graph'가 'skimage.graph'로 변경됨"
   ]
  },
  {
   "cell_type": "code",
   "execution_count": 7,
   "metadata": {},
   "outputs": [
    {
     "name": "stdout",
     "output_type": "stream",
     "text": [
      "(400, 600, 3)  Coffee 영상을 분할하는데  5.94668173789978 초 소요\n"
     ]
    }
   ],
   "source": [
    "import skimage\n",
    "import numpy as np\n",
    "import cv2 as cv\n",
    "import time\n",
    "# scikit-image, numpy, OpenCV 라이브러리, time 모듈 불러옴\n",
    "\n",
    "coffee = skimage.data.coffee()  # coffee에 커피 영상 로드\n",
    "\n",
    "start = time.time()  # 시작시간 저장(현재 시각)\n",
    "slic = skimage.segmentation.slic(coffee,compactness=20,n_segments=600,start_label=1)  # slic 알고리즘을 사용하여 coffee 영상 분할\n",
    "\n",
    "g = skimage.graph.rag_mean_color(coffee,slic,mode='similarity')  # coffee 영상과 slic 분할 결과로 RAG(Region Adjacency Graph) 생성\n",
    "# 책 내용 g = skimage.future.graph.rag_mean_color(coffee,slic,mode='similarity')\n",
    "\n",
    "ncut = skimage.graph.cut_normalized(slic,g)\t# slic 분할 결과와 RAG를 사용하여 정규화 절단\n",
    "# 책 내용 ncut = skimage.future.graph.cut_normalized(slic,g)\n",
    "\n",
    "print(coffee.shape,' Coffee 영상을 분할하는데 ',time.time()-start,'초 소요')  # 분할된 커피 영상의 크기와 분할에 소요된 시간 출력\n",
    "\n",
    "marking = skimage.segmentation.mark_boundaries(coffee,ncut)  #  분할된 coffee 영상과 분할 경계를 표시한 이미지를 생성\n",
    "ncut_coffee = np.uint8(marking*255.0)  # 이미지를 정수값(0~255)으로 변환\n",
    "\n",
    "cv.imshow('Normalized cut',cv.cvtColor(ncut_coffee,cv.COLOR_RGB2BGR))  # '제목은 Normalized cut'이라는 창에 ncut_coffee 이미지를 출력\n",
    "\n",
    "cv.waitKey()  # 키보드 입력 대기\n",
    "cv.destroyAllWindows()  # 창 모두 닫기"
   ]
  },
  {
   "cell_type": "code",
   "execution_count": null,
   "metadata": {},
   "outputs": [],
   "source": []
  }
 ],
 "metadata": {
  "kernelspec": {
   "display_name": "Python 3 (ipykernel)",
   "language": "python",
   "name": "python3"
  },
  "language_info": {
   "codemirror_mode": {
    "name": "ipython",
    "version": 3
   },
   "file_extension": ".py",
   "mimetype": "text/x-python",
   "name": "python",
   "nbconvert_exporter": "python",
   "pygments_lexer": "ipython3",
   "version": "3.10.13"
  }
 },
 "nbformat": 4,
 "nbformat_minor": 2
}
